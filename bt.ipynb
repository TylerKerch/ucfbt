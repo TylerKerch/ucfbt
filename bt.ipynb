{
 "cells": [
  {
   "cell_type": "code",
   "execution_count": null,
   "metadata": {},
   "outputs": [],
   "source": [
    "import pandas \n",
    "def backtest(init, update, assets, signals):\n",
    "    ctx = {}\n",
    "    init(ctx)\n",
    "    for signal in signals:\n",
    "        \"])\n",
    "\n",
    "    \n",
    "    \n",
    "    pass"
   ]
  },
  {
   "cell_type": "code",
   "execution_count": null,
   "metadata": {},
   "outputs": [],
   "source": [
    "def init(ctx):\n",
    "    # Should initialize all of the book-keeping structures that it needs\n",
    "    pass\n",
    "\n",
    "def update(ctx, assets, signal_name, signal_type):\n",
    "    # Should handle updates\n",
    "    pass\n",
    "\n",
    "results = backtest(init, update, assets, signals)"
   ]
  },
  {
   "cell_type": "code",
   "execution_count": null,
   "metadata": {},
   "outputs": [],
   "source": []
  },
  {
   "cell_type": "code",
   "execution_count": 2,
   "metadata": {},
   "outputs": [],
   "source": [
    "import pandas as pd\n",
    "class Stock:\n",
    "    def __init__(self, prices):\n",
    "        self.current_position = 0\n",
    "        self.data = pd.read_csv(prices)\n",
    "        self.timstep = self.data.index[0]\n",
    "    def set_time(self, datetime):\n",
    "        pass\n",
    "    def market_buy(self, size):\n",
    "        pass\n",
    "    def market_sell(self, size):\n",
    "        pass\n",
    "    def limit_buy(self, size):\n",
    "        pass\n",
    "    def tradeable(self):\n",
    "        pass\n"
   ]
  },
  {
   "cell_type": "code",
   "execution_count": null,
   "metadata": {},
   "outputs": [],
   "source": []
  }
 ],
 "metadata": {
  "interpreter": {
   "hash": "e7370f93d1d0cde622a1f8e1c04877d8463912d04d973331ad4851f04de6915a"
  },
  "kernelspec": {
   "display_name": "Python 3.10.4 64-bit",
   "language": "python",
   "name": "python3"
  },
  "language_info": {
   "codemirror_mode": {
    "name": "ipython",
    "version": 3
   },
   "file_extension": ".py",
   "mimetype": "text/x-python",
   "name": "python",
   "nbconvert_exporter": "python",
   "pygments_lexer": "ipython3",
   "version": "3.8.12"
  },
  "orig_nbformat": 4
 },
 "nbformat": 4,
 "nbformat_minor": 2
}
